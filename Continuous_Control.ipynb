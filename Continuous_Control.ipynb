{
 "cells": [
  {
   "cell_type": "markdown",
   "metadata": {},
   "source": [
    "# Continuous Control\n",
    "\n",
    "---\n",
    "\n",
    "You are welcome to use this coding environment to train your agent for the project.  Follow the instructions below to get started!\n",
    "\n",
    "### 1. Start the Environment\n",
    "\n",
    "Run the next code cell to install a few packages.  This line will take a few minutes to run!"
   ]
  },
  {
   "cell_type": "code",
   "execution_count": 1,
   "metadata": {},
   "outputs": [
    {
     "name": "stdout",
     "output_type": "stream",
     "text": [
      "\u001b[31mtensorflow 1.7.1 has requirement numpy>=1.13.3, but you'll have numpy 1.12.1 which is incompatible.\u001b[0m\r\n",
      "\u001b[31mipython 6.5.0 has requirement prompt-toolkit<2.0.0,>=1.0.15, but you'll have prompt-toolkit 3.0.20 which is incompatible.\u001b[0m\r\n"
     ]
    }
   ],
   "source": [
    "!pip -q install ./python"
   ]
  },
  {
   "cell_type": "markdown",
   "metadata": {},
   "source": [
    "The environments corresponding to both versions of the environment are already saved in the Workspace and can be accessed at the file paths provided below.  \n",
    "\n",
    "Please select one of the two options below for loading the environment."
   ]
  },
  {
   "cell_type": "code",
   "execution_count": 2,
   "metadata": {},
   "outputs": [
    {
     "name": "stderr",
     "output_type": "stream",
     "text": [
      "INFO:unityagents:\n",
      "'Academy' started successfully!\n",
      "Unity Academy name: Academy\n",
      "        Number of Brains: 1\n",
      "        Number of External Brains : 1\n",
      "        Lesson number : 0\n",
      "        Reset Parameters :\n",
      "\t\tgoal_size -> 5.0\n",
      "\t\tgoal_speed -> 1.0\n",
      "Unity brain name: ReacherBrain\n",
      "        Number of Visual Observations (per agent): 0\n",
      "        Vector Observation space type: continuous\n",
      "        Vector Observation space size (per agent): 33\n",
      "        Number of stacked Vector Observation: 1\n",
      "        Vector Action space type: continuous\n",
      "        Vector Action space size (per agent): 4\n",
      "        Vector Action descriptions: , , , \n"
     ]
    }
   ],
   "source": [
    "from unityagents import UnityEnvironment\n",
    "import numpy as np\n",
    "import torch\n",
    "from collections import deque\n",
    "# select this option to load version 1 (with a single agent) of the environment\n",
    "#env = UnityEnvironment(file_name='/data/Reacher_One_Linux_NoVis/Reacher_One_Linux_NoVis.x86_64')\n",
    "\n",
    "# select this option to load version 2 (with 20 agents) of the environment\n",
    "env = UnityEnvironment(file_name='/data/Reacher_Linux_NoVis/Reacher.x86_64')"
   ]
  },
  {
   "cell_type": "markdown",
   "metadata": {},
   "source": [
    "Environments contain **_brains_** which are responsible for deciding the actions of their associated agents. Here we check for the first brain available, and set it as the default brain we will be controlling from Python."
   ]
  },
  {
   "cell_type": "code",
   "execution_count": 3,
   "metadata": {},
   "outputs": [],
   "source": [
    "# get the default brain\n",
    "brain_name = env.brain_names[0]\n",
    "brain = env.brains[brain_name]"
   ]
  },
  {
   "cell_type": "markdown",
   "metadata": {},
   "source": [
    "### 2. Examine the State and Action Spaces\n",
    "\n",
    "Run the code cell below to print some information about the environment."
   ]
  },
  {
   "cell_type": "code",
   "execution_count": 4,
   "metadata": {},
   "outputs": [
    {
     "name": "stdout",
     "output_type": "stream",
     "text": [
      "Number of agents: 20\n",
      "Size of each action: 4\n",
      "There are 20 agents. Each observes a state with length: 33\n",
      "The state for the first agent looks like: [  0.00000000e+00  -4.00000000e+00   0.00000000e+00   1.00000000e+00\n",
      "  -0.00000000e+00  -0.00000000e+00  -4.37113883e-08   0.00000000e+00\n",
      "   0.00000000e+00   0.00000000e+00   0.00000000e+00   0.00000000e+00\n",
      "   0.00000000e+00   0.00000000e+00  -1.00000000e+01   0.00000000e+00\n",
      "   1.00000000e+00  -0.00000000e+00  -0.00000000e+00  -4.37113883e-08\n",
      "   0.00000000e+00   0.00000000e+00   0.00000000e+00   0.00000000e+00\n",
      "   0.00000000e+00   0.00000000e+00   5.75471878e+00  -1.00000000e+00\n",
      "   5.55726624e+00   0.00000000e+00   1.00000000e+00   0.00000000e+00\n",
      "  -1.68164849e-01]\n"
     ]
    }
   ],
   "source": [
    "# reset the environment\n",
    "env_info = env.reset(train_mode=True)[brain_name]\n",
    "\n",
    "# number of agents\n",
    "num_agents = len(env_info.agents)\n",
    "print('Number of agents:', num_agents)\n",
    "\n",
    "# size of each action\n",
    "action_size = brain.vector_action_space_size\n",
    "print('Size of each action:', action_size)\n",
    "\n",
    "# examine the state space \n",
    "states = env_info.vector_observations\n",
    "state_size = states.shape[1]\n",
    "print('There are {} agents. Each observes a state with length: {}'.format(states.shape[0], state_size))\n",
    "print('The state for the first agent looks like:', states[0])"
   ]
  },
  {
   "cell_type": "markdown",
   "metadata": {},
   "source": [
    "### 3. Take Random Actions in the Environment\n",
    "\n",
    "In the next code cell, you will learn how to use the Python API to control the agent and receive feedback from the environment.\n",
    "\n",
    "Note that **in this coding environment, you will not be able to watch the agents while they are training**, and you should set `train_mode=True` to restart the environment."
   ]
  },
  {
   "cell_type": "code",
   "execution_count": 5,
   "metadata": {},
   "outputs": [
    {
     "name": "stdout",
     "output_type": "stream",
     "text": [
      "Total score (averaged over agents) this episode: 0.17649999605491756\n"
     ]
    }
   ],
   "source": [
    "env_info = env.reset(train_mode=True)[brain_name]      # reset the environment    \n",
    "states = env_info.vector_observations                  # get the current state (for each agent)\n",
    "scores = np.zeros(num_agents)                          # initialize the score (for each agent)\n",
    "while True:\n",
    "    actions = np.random.randn(num_agents, action_size) # select an action (for each agent)\n",
    "    actions = np.clip(actions, -1, 1)                  # all actions between -1 and 1\n",
    "    env_info = env.step(actions)[brain_name]           # send all actions to tne environment\n",
    "    next_states = env_info.vector_observations         # get next state (for each agent)\n",
    "    rewards = env_info.rewards                         # get reward (for each agent)\n",
    "    dones = env_info.local_done                        # see if episode finished\n",
    "    scores += env_info.rewards                         # update the score (for each agent)\n",
    "    states = next_states                               # roll over states to next time step\n",
    "    if np.any(dones):                                  # exit loop if episode finished\n",
    "        break\n",
    "print('Total score (averaged over agents) this episode: {}'.format(np.mean(scores)))"
   ]
  },
  {
   "cell_type": "markdown",
   "metadata": {},
   "source": [
    "When finished, you can close the environment."
   ]
  },
  {
   "cell_type": "markdown",
   "metadata": {},
   "source": [
    "### 4. It's Your Turn!\n",
    "\n",
    "Now it's your turn to train your own agent to solve the environment!  A few **important notes**:\n",
    "- When training the environment, set `train_mode=True`, so that the line for resetting the environment looks like the following:\n",
    "```python\n",
    "env_info = env.reset(train_mode=True)[brain_name]\n",
    "```\n",
    "- To structure your work, you're welcome to work directly in this Jupyter notebook, or you might like to start over with a new file!  You can see the list of files in the workspace by clicking on **_Jupyter_** in the top left corner of the notebook.\n",
    "- In this coding environment, you will not be able to watch the agents while they are training.  However, **_after training the agents_**, you can download the saved model weights to watch the agents on your own machine! "
   ]
  },
  {
   "cell_type": "code",
   "execution_count": 6,
   "metadata": {},
   "outputs": [],
   "source": [
    "import models\n",
    "actor = models.ActorModel(state_size, action_size)\n",
    "critic = models.CriticModel(state_size, action_size)"
   ]
  },
  {
   "cell_type": "code",
   "execution_count": 7,
   "metadata": {},
   "outputs": [
    {
     "data": {
      "text/plain": [
       "ActorModel(\n",
       "  (fc1): Linear(in_features=33, out_features=400, bias=True)\n",
       "  (fc2): Linear(in_features=400, out_features=300, bias=True)\n",
       "  (fc3): Linear(in_features=300, out_features=4, bias=True)\n",
       ")"
      ]
     },
     "execution_count": 7,
     "metadata": {},
     "output_type": "execute_result"
    }
   ],
   "source": [
    "actor"
   ]
  },
  {
   "cell_type": "code",
   "execution_count": 8,
   "metadata": {},
   "outputs": [
    {
     "data": {
      "text/plain": [
       "CriticModel(\n",
       "  (fc1): Linear(in_features=33, out_features=400, bias=True)\n",
       "  (fc2): Linear(in_features=404, out_features=300, bias=True)\n",
       "  (fc3): Linear(in_features=300, out_features=1, bias=True)\n",
       ")"
      ]
     },
     "execution_count": 8,
     "metadata": {},
     "output_type": "execute_result"
    }
   ],
   "source": [
    "critic"
   ]
  },
  {
   "cell_type": "code",
   "execution_count": 9,
   "metadata": {},
   "outputs": [],
   "source": [
    "target_score = 30.0\n",
    "target_episodes = 100\n",
    "\n",
    "## Define the training function\n",
    "def train_agent(env, agent, n_episodes=1000, max_t=1000):\n",
    "    \"\"\"Deep Deterministic Policy Gradients (DDPG).\n",
    "    \n",
    "    Params\n",
    "    ======\n",
    "        n_episodes (int): maximum number of training episodes\n",
    "        max_t (int): maximum number of timesteps per episode\n",
    "    \"\"\"\n",
    "    scores = []      # episodic scores\n",
    "    avg = []\n",
    "    moving_avg_window = deque(maxlen=target_episodes)  # moving average over 100 episodes and over all agents\n",
    "    \n",
    "    ## Perform n_episodes of training\n",
    "    for i_episode in range(1, n_episodes+1):\n",
    "        agent.reset()\n",
    "        env_info = env.reset(train_mode=True)[brain_name]\n",
    "        states = env_info.vector_observations \n",
    "        scores_episode = np.zeros(num_agents)           # rewards per episode for each agent\n",
    "\n",
    "        for t in range(1, max_t+1):\n",
    "            # Perform a step: S;A;R;S'\n",
    "            actions = agent.act(states)                 # select the next action for each agent\n",
    "            env_info = env.step(actions)[brain_name]    # send the actions to the environment\n",
    "            rewards = env_info.rewards                  # get the rewards\n",
    "            next_states = env_info.vector_observations  # get the next states\n",
    "            dones = env_info.local_done\n",
    "            \n",
    "            # Send the results to the Agent         \n",
    "            agent.step(t, states, actions, rewards, next_states, dones)   \n",
    "            # Update the variables for the next iteration\n",
    "            states = next_states\n",
    "            scores_episode += rewards\n",
    "            \n",
    "            if np.any(dones):\n",
    "                break\n",
    "\n",
    "        # Store the rewards and calculate the moving average\n",
    "        score_episode_mean = scores_episode.mean()\n",
    "        moving_avg_window.append(np.mean(scores_episode))\n",
    "        scores.append(score_episode_mean)\n",
    "               \n",
    "\n",
    "        ## Print the results for this episode\n",
    "        print('Episode {:3d}\\tScore: {:5.2f} \\t' \\\n",
    "              'Moving average: {:5.2f}' \\\n",
    "              .format(i_episode, score_episode_mean,\n",
    "                      np.mean(moving_avg_window)))\n",
    "\n",
    "        ## Check if the environment has been solved\n",
    "        mean_score = np.mean(moving_avg_window)\n",
    "        avg.append(mean_score)\n",
    "        if mean_score >= target_score and i_episode >= target_episodes:\n",
    "            print('\\nEnvironment solved in {:d} episodes!\\t' \\\n",
    "                  'Average Score: {:.2f}'\n",
    "                  .format(i_episode-target_episodes, mean_score))\n",
    "            \n",
    "            ## Save the model along with some training information\n",
    "            checkpoint = {\n",
    "                'actor_dict': agent.actor.state_dict(),\n",
    "                'critic_dict': agent.critic.state_dict(),               \n",
    "                'episodes': i_episode,\n",
    "                'scores': scores,\n",
    "                'moving_avg': avg,\n",
    "                }\n",
    "            print('\\nSaving model ...', end=' ')\n",
    "            torch.save(checkpoint, 'checkpoint.pt')\n",
    "            print('done.')\n",
    "\n",
    "            break\n",
    "\n",
    "    return scores, avg"
   ]
  },
  {
   "cell_type": "code",
   "execution_count": 10,
   "metadata": {},
   "outputs": [
    {
     "name": "stdout",
     "output_type": "stream",
     "text": [
      "Episode   1\tScore:  1.00 \tMoving average:  1.00\n",
      "Episode   2\tScore:  1.14 \tMoving average:  1.07\n",
      "Episode   3\tScore:  1.59 \tMoving average:  1.25\n",
      "Episode   4\tScore:  2.78 \tMoving average:  1.63\n",
      "Episode   5\tScore:  3.97 \tMoving average:  2.10\n",
      "Episode   6\tScore:  5.15 \tMoving average:  2.61\n",
      "Episode   7\tScore:  6.40 \tMoving average:  3.15\n",
      "Episode   8\tScore:  8.07 \tMoving average:  3.76\n",
      "Episode   9\tScore: 10.06 \tMoving average:  4.46\n",
      "Episode  10\tScore: 12.06 \tMoving average:  5.22\n",
      "Episode  11\tScore: 15.30 \tMoving average:  6.14\n",
      "Episode  12\tScore: 19.98 \tMoving average:  7.29\n",
      "Episode  13\tScore: 25.58 \tMoving average:  8.70\n",
      "Episode  14\tScore: 30.32 \tMoving average: 10.24\n",
      "Episode  15\tScore: 31.61 \tMoving average: 11.67\n",
      "Episode  16\tScore: 32.97 \tMoving average: 13.00\n",
      "Episode  17\tScore: 34.43 \tMoving average: 14.26\n",
      "Episode  18\tScore: 36.44 \tMoving average: 15.49\n",
      "Episode  19\tScore: 37.56 \tMoving average: 16.65\n",
      "Episode  20\tScore: 37.99 \tMoving average: 17.72\n",
      "Episode  21\tScore: 37.04 \tMoving average: 18.64\n",
      "Episode  22\tScore: 36.95 \tMoving average: 19.47\n",
      "Episode  23\tScore: 36.28 \tMoving average: 20.20\n",
      "Episode  24\tScore: 36.77 \tMoving average: 20.89\n",
      "Episode  25\tScore: 38.09 \tMoving average: 21.58\n",
      "Episode  26\tScore: 38.39 \tMoving average: 22.23\n",
      "Episode  27\tScore: 37.30 \tMoving average: 22.79\n",
      "Episode  28\tScore: 38.43 \tMoving average: 23.35\n",
      "Episode  29\tScore: 37.52 \tMoving average: 23.83\n",
      "Episode  30\tScore: 38.29 \tMoving average: 24.32\n",
      "Episode  31\tScore: 38.50 \tMoving average: 24.77\n",
      "Episode  32\tScore: 38.50 \tMoving average: 25.20\n",
      "Episode  33\tScore: 38.01 \tMoving average: 25.59\n",
      "Episode  34\tScore: 38.12 \tMoving average: 25.96\n",
      "Episode  35\tScore: 38.82 \tMoving average: 26.33\n",
      "Episode  36\tScore: 38.98 \tMoving average: 26.68\n",
      "Episode  37\tScore: 38.90 \tMoving average: 27.01\n",
      "Episode  38\tScore: 39.12 \tMoving average: 27.33\n",
      "Episode  39\tScore: 38.82 \tMoving average: 27.62\n",
      "Episode  40\tScore: 39.16 \tMoving average: 27.91\n",
      "Episode  41\tScore: 39.28 \tMoving average: 28.19\n",
      "Episode  42\tScore: 39.17 \tMoving average: 28.45\n",
      "Episode  43\tScore: 39.12 \tMoving average: 28.70\n",
      "Episode  44\tScore: 39.46 \tMoving average: 28.94\n",
      "Episode  45\tScore: 39.16 \tMoving average: 29.17\n",
      "Episode  46\tScore: 39.00 \tMoving average: 29.38\n",
      "Episode  47\tScore: 38.99 \tMoving average: 29.59\n",
      "Episode  48\tScore: 39.06 \tMoving average: 29.78\n",
      "Episode  49\tScore: 39.07 \tMoving average: 29.97\n",
      "Episode  50\tScore: 39.25 \tMoving average: 30.16\n",
      "Episode  51\tScore: 39.33 \tMoving average: 30.34\n",
      "Episode  52\tScore: 39.40 \tMoving average: 30.51\n",
      "Episode  53\tScore: 39.26 \tMoving average: 30.68\n",
      "Episode  54\tScore: 38.91 \tMoving average: 30.83\n",
      "Episode  55\tScore: 39.12 \tMoving average: 30.98\n",
      "Episode  56\tScore: 39.35 \tMoving average: 31.13\n",
      "Episode  57\tScore: 39.37 \tMoving average: 31.28\n",
      "Episode  58\tScore: 39.40 \tMoving average: 31.42\n",
      "Episode  59\tScore: 39.09 \tMoving average: 31.55\n",
      "Episode  60\tScore: 39.32 \tMoving average: 31.68\n",
      "Episode  61\tScore: 39.09 \tMoving average: 31.80\n",
      "Episode  62\tScore: 38.88 \tMoving average: 31.91\n",
      "Episode  63\tScore: 38.86 \tMoving average: 32.02\n",
      "Episode  64\tScore: 39.13 \tMoving average: 32.13\n",
      "Episode  65\tScore: 38.78 \tMoving average: 32.23\n",
      "Episode  66\tScore: 38.80 \tMoving average: 32.33\n",
      "Episode  67\tScore: 38.86 \tMoving average: 32.43\n",
      "Episode  68\tScore: 38.60 \tMoving average: 32.52\n",
      "Episode  69\tScore: 38.80 \tMoving average: 32.61\n",
      "Episode  70\tScore: 38.88 \tMoving average: 32.70\n",
      "Episode  71\tScore: 38.94 \tMoving average: 32.79\n",
      "Episode  72\tScore: 38.86 \tMoving average: 32.88\n",
      "Episode  73\tScore: 38.79 \tMoving average: 32.96\n",
      "Episode  74\tScore: 37.13 \tMoving average: 33.01\n",
      "Episode  75\tScore: 38.13 \tMoving average: 33.08\n",
      "Episode  76\tScore: 38.51 \tMoving average: 33.15\n",
      "Episode  77\tScore: 38.59 \tMoving average: 33.22\n",
      "Episode  78\tScore: 38.21 \tMoving average: 33.29\n",
      "Episode  79\tScore: 39.12 \tMoving average: 33.36\n",
      "Episode  80\tScore: 38.79 \tMoving average: 33.43\n",
      "Episode  81\tScore: 37.95 \tMoving average: 33.48\n",
      "Episode  82\tScore: 38.99 \tMoving average: 33.55\n",
      "Episode  83\tScore: 38.23 \tMoving average: 33.61\n",
      "Episode  84\tScore: 38.75 \tMoving average: 33.67\n",
      "Episode  85\tScore: 38.73 \tMoving average: 33.73\n",
      "Episode  86\tScore: 38.94 \tMoving average: 33.79\n",
      "Episode  87\tScore: 39.25 \tMoving average: 33.85\n",
      "Episode  88\tScore: 39.08 \tMoving average: 33.91\n",
      "Episode  89\tScore: 38.97 \tMoving average: 33.97\n",
      "Episode  90\tScore: 39.17 \tMoving average: 34.03\n",
      "Episode  91\tScore: 39.13 \tMoving average: 34.08\n",
      "Episode  92\tScore: 39.20 \tMoving average: 34.14\n",
      "Episode  93\tScore: 39.24 \tMoving average: 34.19\n",
      "Episode  94\tScore: 39.19 \tMoving average: 34.25\n",
      "Episode  95\tScore: 39.31 \tMoving average: 34.30\n",
      "Episode  96\tScore: 39.19 \tMoving average: 34.35\n",
      "Episode  97\tScore: 38.97 \tMoving average: 34.40\n",
      "Episode  98\tScore: 39.35 \tMoving average: 34.45\n",
      "Episode  99\tScore: 39.02 \tMoving average: 34.49\n",
      "Episode 100\tScore: 39.10 \tMoving average: 34.54\n",
      "\n",
      "Environment solved in 0 episodes!\tAverage Score: 34.54\n",
      "\n",
      "Saving model ... done.\n"
     ]
    }
   ],
   "source": [
    "import ddpgagent\n",
    "agent = ddpgagent.DDPGAgent(state_size, action_size, num_agents, seed=5)\n",
    "scores, avg = train_agent(env, agent)"
   ]
  },
  {
   "cell_type": "code",
   "execution_count": 19,
   "metadata": {},
   "outputs": [
    {
     "data": {
      "image/png": "[encoded data removed]",
      "text/plain": [
       "<matplotlib.figure.Figure at 0x7efd0cb503c8>"
      ]
     },
     "metadata": {
      "needs_background": "light"
     },
     "output_type": "display_data"
    }
   ],
   "source": [
    "import matplotlib.pyplot as plt\n",
    "plt.figure()\n",
    "plt.hlines(target_score, 0 , len(avg), colors='r')\n",
    "plt.plot(np.arange(len(avg)), avg, label='moving avg')\n",
    "plt.ylabel('Score')\n",
    "plt.xlabel('Episode #')\n",
    "plt.legend(loc='upper left');\n",
    "plt.show()"
   ]
  },
  {
   "cell_type": "code",
   "execution_count": 11,
   "metadata": {},
   "outputs": [
    {
     "name": "stdout",
     "output_type": "stream",
     "text": [
      "Total score (averaged over agents) this episode: 38.784999133087695\n"
     ]
    }
   ],
   "source": [
    "env_info = env.reset(train_mode=True)[brain_name]      # reset the environment    \n",
    "states = env_info.vector_observations                  # get the current state (for each agent)\n",
    "scores = np.zeros(num_agents)                          # initialize the score (for each agent)\n",
    "while True:\n",
    "    actions = agent.act(states, train=False)      # select an action (for each agent)\n",
    "    env_info = env.step(actions)[brain_name]           # send all actions to tne environment\n",
    "    next_states = env_info.vector_observations         # get next state (for each agent)\n",
    "    rewards = env_info.rewards                         # get reward (for each agent)\n",
    "    dones = env_info.local_done                        # see if episode finished\n",
    "    scores += env_info.rewards                         # update the score (for each agent)\n",
    "    states = next_states                               # roll over states to next time step\n",
    "    if np.any(dones):                                  # exit loop if episode finished\n",
    "        break\n",
    "print('Total score (averaged over agents) this episode: {}'.format(np.mean(scores)))"
   ]
  },
  {
   "cell_type": "code",
   "execution_count": 20,
   "metadata": {},
   "outputs": [],
   "source": [
    "env.close()"
   ]
  }
 ],
 "metadata": {
  "kernelspec": {
   "display_name": "Python 3",
   "language": "python",
   "name": "python3"
  },
  "language_info": {
   "codemirror_mode": {
    "name": "ipython",
    "version": 3
   },
   "file_extension": ".py",
   "mimetype": "text/x-python",
   "name": "python",
   "nbconvert_exporter": "python",
   "pygments_lexer": "ipython3",
   "version": "3.6.3"
  }
 },
 "nbformat": 4,
 "nbformat_minor": 2
}
